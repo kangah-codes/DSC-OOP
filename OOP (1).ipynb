{
  "nbformat": 4,
  "nbformat_minor": 0,
  "metadata": {
    "colab": {
      "name": "OOP.ipynb",
      "provenance": []
    },
    "kernelspec": {
      "name": "python3",
      "display_name": "Python 3"
    }
  },
  "cells": [
    {
      "cell_type": "markdown",
      "metadata": {
        "id": "jlGlJCGD9mR1"
      },
      "source": [
        "# **Defining Classes in Python**"
      ]
    },
    {
      "cell_type": "code",
      "metadata": {
        "id": "_w5zhFhXqAZR"
      },
      "source": [
        "# The way we define classes in Python is by using the 'class' keyword\n",
        "# What comes after the class keyword is the name we want to give to the class we are creating\n",
        "# And lastly we add a colon for indentation\n",
        "# So for example,\n",
        "# class <CLASSNAME>:\n",
        "#   <LOGIC>\n",
        "\n",
        "class ChessPawn:\n",
        "    pass\n"
      ],
      "execution_count": null,
      "outputs": []
    },
    {
      "cell_type": "markdown",
      "metadata": {
        "id": "hAU76idC1I7I"
      },
      "source": [
        "# **Creating objects of a class**"
      ]
    },
    {
      "cell_type": "code",
      "metadata": {
        "id": "QjIva-j61NT2"
      },
      "source": [
        "# we can use variables to hold particular instances of our classes\n",
        "a = ChessPawn() # why do we use brackets when creating an instance?\n",
        "print(a)"
      ],
      "execution_count": null,
      "outputs": []
    },
    {
      "cell_type": "markdown",
      "metadata": {
        "id": "BYolGX6o227B"
      },
      "source": [
        "# **Giving our class attributes**"
      ]
    },
    {
      "cell_type": "code",
      "metadata": {
        "id": "74rAJGelqXZf"
      },
      "source": [
        "# Let's create a class for a chess pawn based on the attributes we mentioned before\n",
        "# Colour\n",
        "# Height\n",
        "# Shape\n",
        "# Movement allowed\n",
        "\n",
        "class ChessPawn:\n",
        "    pass"
      ],
      "execution_count": null,
      "outputs": []
    },
    {
      "cell_type": "markdown",
      "metadata": {
        "id": "YSBR3cA4u692"
      },
      "source": [
        "# **Using the class constructor**"
      ]
    },
    {
      "cell_type": "code",
      "metadata": {
        "id": "4KAcXRS_u_zI"
      },
      "source": [
        "# special constructor function in Python is called __init__\n",
        "# function which is automatically called when an object is created\n",
        "# we can set attributes we want for our object\n",
        "# takes 1 required positional argument\n",
        "# self keyword - this represents an instance of the class\n",
        "\n",
        "class ChessPawn:\n",
        "    def __init__(self):\n",
        "        pass"
      ],
      "execution_count": null,
      "outputs": []
    },
    {
      "cell_type": "markdown",
      "metadata": {
        "id": "4Udh2G6a37og"
      },
      "source": [
        "Mini challenge #1\n",
        "\n",
        "\n",
        "*   Create a class for chess pawns which takes the attributes shape, height, and moves allowed as arguments in the constructor, and uses those parameters as attributes\n"
      ]
    },
    {
      "cell_type": "code",
      "metadata": {
        "id": "fTAR2VXn4YXr"
      },
      "source": [
        "class ChessPawn:\n",
        "    # arguments into the constructor function\n",
        "    def __init__(self):\n",
        "        # attributes here"
      ],
      "execution_count": null,
      "outputs": []
    },
    {
      "cell_type": "markdown",
      "metadata": {
        "id": "QAoAq7Kv4_KN"
      },
      "source": [
        "# **Class and instance attributes**"
      ]
    },
    {
      "cell_type": "code",
      "metadata": {
        "id": "vnvROrBP5E7o"
      },
      "source": [
        "# class attributes are attributes which are constant or the same across all instances of that particular class\n",
        "# instance attributes are however specific to a particular instance of a class\n",
        "# let's look for something all chess pawns have in common\n",
        "\n",
        "class ChessPawn:\n",
        "    \"\"\"\n",
        "    common (class) attributes\n",
        "    \"\"\"\n",
        "\n",
        "    def __init__(self):\n",
        "        \"\"\"\n",
        "        specific (instance) attributes\n",
        "        \"\"\"\n",
        "        pass"
      ],
      "execution_count": null,
      "outputs": []
    },
    {
      "cell_type": "markdown",
      "metadata": {
        "id": "Rmw4pdtW9rog"
      },
      "source": [
        "Mini challenge #2\n",
        "\n",
        "\n",
        "*   Let's create a class for human beings, with class attributes and instance attributes\n"
      ]
    },
    {
      "cell_type": "code",
      "metadata": {
        "id": "5kkbgHkX90iH"
      },
      "source": [
        "class Human:\n",
        "    pass"
      ],
      "execution_count": null,
      "outputs": []
    },
    {
      "cell_type": "markdown",
      "metadata": {
        "id": "RiwKUE11-nXP"
      },
      "source": [
        "# **Instance methods**"
      ]
    },
    {
      "cell_type": "code",
      "metadata": {
        "id": "Nq_vNZNG_gWX"
      },
      "source": [
        "# let's look into creating functions which are accessible by instances of those classes\n",
        "# let's create a class method called move for our ChessPawn class\n",
        "# our method move prints out a specific message \n",
        "\n",
        "class ChessPawn:\n",
        "    pass"
      ],
      "execution_count": 2,
      "outputs": []
    },
    {
      "cell_type": "code",
      "metadata": {
        "id": "4HdE151RxNJe"
      },
      "source": [
        "# using our human example, let's create a method called talk, which takes an argument \n",
        "# words, which specify what we want our human to say\n",
        "\n",
        "class Human:\n",
        "    pass"
      ],
      "execution_count": 5,
      "outputs": []
    },
    {
      "cell_type": "markdown",
      "metadata": {
        "id": "noVi4c2PzayW"
      },
      "source": [
        "## **Modifying data with instance methods**"
      ]
    },
    {
      "cell_type": "code",
      "metadata": {
        "id": "ia2gYaNTzdft"
      },
      "source": [
        "# again using our human class, let's give our human an attribute of stomach\n",
        "# which stores the food which our user has eaten\n",
        "# what datatype do you think is best for this?\n",
        "\n",
        "class Human:\n",
        "    pass"
      ],
      "execution_count": null,
      "outputs": []
    },
    {
      "cell_type": "code",
      "metadata": {
        "id": "kwdWm6e6z1wT"
      },
      "source": [
        "# let's create a method eat, which adds food to our human's stomach\n",
        "# we can give our method an argument which specifies what food exactly our human has eaten\n",
        "\n",
        "class Human:\n",
        "    pass"
      ],
      "execution_count": null,
      "outputs": []
    },
    {
      "cell_type": "markdown",
      "metadata": {
        "id": "e2o5g5kuu1NV"
      },
      "source": [
        "Mini challenge #3\n",
        "\n",
        "\n",
        "* Let's give our ChessPawn class an attribute of `position` which stores the current position our pawn is in\n",
        "* We can use a 1-dimensional list to store our position\n",
        "* Our position can be expressed as a list [x, y], where x is the direction of our pawn to the left (-ve) or right (+ve), and y is the direction of our pawn forward (+ve) or backwards (-ve)\n",
        "* Let's modify the `move` method of our ChessPawn class to take an argument `direction`, which changes the position of our pawn depending on the direction we pass to it.\n"
      ]
    },
    {
      "cell_type": "code",
      "metadata": {
        "id": "Vvl7dI_KvGP0"
      },
      "source": [
        "# TODO\n",
        "# add position attribute\n",
        "# modify move method\n",
        "# within move method, modify position based on direction we entered\n",
        "\n",
        "class ChessPawn:\n",
        "    pass"
      ],
      "execution_count": null,
      "outputs": []
    },
    {
      "cell_type": "markdown",
      "metadata": {
        "id": "d_4Ug86uCATB"
      },
      "source": [
        "# **Inheritance**\n",
        "\n",
        "Syntax for inheritance\n",
        "```\n",
        "class BaseClass:\n",
        "    pass\n",
        "\n",
        "class ChildClass(BaseClass):\n",
        "    def __init__(self):\n",
        "        BaseClass.__init__(self)\n",
        "```"
      ]
    },
    {
      "cell_type": "code",
      "metadata": {
        "id": "JjeHhwZZ3z0P"
      },
      "source": [
        "# base class\n",
        "# we are creating a base class with functionality and attributes which other dogs can inherit\n",
        "\n",
        "class CanisLupus:\n",
        "    pass\n",
        "\n",
        "class GermanShepherd:\n",
        "    pass\n",
        "\n",
        "class BullDog:\n",
        "    pass"
      ],
      "execution_count": 11,
      "outputs": []
    }
  ]
}